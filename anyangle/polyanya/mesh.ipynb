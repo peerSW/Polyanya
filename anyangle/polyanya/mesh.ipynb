{
 "cells": [
  {
   "cell_type": "code",
   "execution_count": 1,
   "metadata": {},
   "outputs": [],
   "source": [
    "import os\n",
    "import random\n",
    "def giveWeights(projectbase, testMapfolder,weightedFolder):\n",
    "    for curDir, dirs, files in os.walk(projectbase+testMapfolder):\n",
    "        for filename in files:\n",
    "            if '.mesh' in filename:   \n",
    "                r_path = curDir+'\\\\'+filename\n",
    "                w_path = r_path.replace(testMapfolder,weightedFolder)\n",
    "                giveWeight(r_path,w_path)\n",
    "                \n",
    "def giveWeight(r_path,w_path):\n",
    "                print(r_path)\n",
    "                with open(r_path,'r',encoding = 'utf-8') as f:\n",
    "                    #write\n",
    "                    if os.path.exists(w_path):\n",
    "                        os.remove(w_path)\n",
    "                    file_write_obj = open(w_path, 'w')\n",
    "                \n",
    "                    #read\n",
    "                    lines = f.readlines()\n",
    "                    n_vertices = 0\n",
    "                    n_poly = 0\n",
    "                    count_ver = 0\n",
    "                    count_poly = 0\n",
    "                    for i in range(0,len(lines)):\n",
    "                        w_line = lines[i].strip()\n",
    "                        if i == 0:\n",
    "                            w_line = \"weighted_\"+w_line\n",
    "                        if i == 2:\n",
    "                            s_vp = w_line.split(\" \")\n",
    "                            n_vertices = int(s_vp[0])\n",
    "                            n_poly = int(s_vp[1])\n",
    "                        if count_ver<n_vertices and i>2 and len(w_line)!=0:\n",
    "                            count_ver+=1\n",
    "                            \n",
    "                        if count_ver == n_vertices and count_poly<n_poly and len(w_line)!=0:\n",
    "                            weight = str(random.randint(1,9))\n",
    "                            w_line = w_line +\" \"+ weight\n",
    "                            \n",
    "                        if len(w_line)!=0:\n",
    "                            file_write_obj.writelines(w_line)\n",
    "                            file_write_obj.write('\\n')\n",
    "                    file_write_obj.close()"
   ]
  },
  {
   "cell_type": "code",
   "execution_count": 2,
   "metadata": {},
   "outputs": [
    {
     "name": "stdout",
     "output_type": "stream",
     "text": [
      "F:\\ANU\\Research\\Polyanya\\anyangle\\polyanya\\meshes\\\\arena-merged.mesh\n",
      "F:\\ANU\\Research\\Polyanya\\anyangle\\polyanya\\meshes\\\\arena.mesh\n",
      "F:\\ANU\\Research\\Polyanya\\anyangle\\polyanya\\meshes\\\\aurora-merged.mesh\n",
      "F:\\ANU\\Research\\Polyanya\\anyangle\\polyanya\\meshes\\\\aurora.mesh\n",
      "F:\\ANU\\Research\\Polyanya\\anyangle\\polyanya\\meshes\\tests\\bad-ambig.mesh\n",
      "F:\\ANU\\Research\\Polyanya\\anyangle\\polyanya\\meshes\\tests\\bad-collinear.mesh\n",
      "F:\\ANU\\Research\\Polyanya\\anyangle\\polyanya\\meshes\\tests\\bad-collinear2-rot0.mesh\n",
      "F:\\ANU\\Research\\Polyanya\\anyangle\\polyanya\\meshes\\tests\\bad-collinear2-rot45.mesh\n",
      "F:\\ANU\\Research\\Polyanya\\anyangle\\polyanya\\meshes\\tests\\bad-collinear2-rot90.mesh\n",
      "F:\\ANU\\Research\\Polyanya\\anyangle\\polyanya\\meshes\\tests\\hard.mesh\n",
      "F:\\ANU\\Research\\Polyanya\\anyangle\\polyanya\\meshes\\tests\\square.mesh\n"
     ]
    }
   ],
   "source": [
    "projectbase = 'F:\\\\ANU\\\\Research\\\\Polyanya\\\\anyangle\\\\polyanya\\\\'\n",
    "testMapfolder = 'meshes\\\\'\n",
    "weightedFolder = 'weightedMeshes\\\\'\n",
    "giveWeights(projectbase, testMapfolder,weightedFolder)"
   ]
  },
  {
   "cell_type": "code",
   "execution_count": 85,
   "metadata": {},
   "outputs": [],
   "source": [
    "import os\n",
    "import cv2\n",
    "import numpy as np\n",
    "\n",
    "                \n",
    "def printMesh(r_path,w_path):\n",
    "    size_y = 25\n",
    "    size_x = 25\n",
    "    print(r_path)\n",
    "\n",
    "    with open(r_path,'r',encoding = 'utf-8') as f:\n",
    "        lines = f.readlines()\n",
    "        n_vertices = 0\n",
    "        n_poly = 0\n",
    "        Type = 0\n",
    "        polys = []\n",
    "        \n",
    "        Type = lines[1].strip()\n",
    "        n_vertices, n_poly = lines[2].split(\" \")\n",
    "        n_vertices= int(n_vertices)\n",
    "        n_poly = int(n_poly)\n",
    "        \n",
    "        for i in range(3,3+n_vertices):\n",
    "            if i<=2+n_vertices:\n",
    "                vertice = lines[i].split(\" \")\n",
    "                while size_x <= float(vertice[0]):\n",
    "                    size_x*=2\n",
    "                while size_y <= float(vertice[1]):\n",
    "                    size_y*=2\n",
    "        canvas = np.ones((size_y,size_x , 3), dtype=\"uint8\")\n",
    "        canvas *= 255\n",
    "        \n",
    "        for i in range(3+n_vertices, len(lines)):\n",
    "            l_poly = lines[i].split(\" \")\n",
    "            l_poly = [j for j in l_poly if(len(str(j))!=0)]\n",
    "            n_ver = int(l_poly[0])\n",
    "            weight = int(l_poly[-1])\n",
    "            i_vertices = l_poly[1:(n_ver+1)]\n",
    "            points = []\n",
    "            for index in range(0,len(i_vertices)):\n",
    "                vertice = lines[int(i_vertices[index])+3]\n",
    "                vertice = vertice.split(\" \")\n",
    "                x= int(vertice[0])\n",
    "                y = int(vertice[1])\n",
    "                points.append([x,y])  \n",
    "            \n",
    "            points = np.array(points, np.int32)\n",
    "            points = points.reshape((-1,1,2))\n",
    "            cv2.polylines(canvas, pts=[points], isClosed=True, color=(0,0,255), thickness=1)        \n",
    "        cv2.imshow(\"polylines\", canvas)      \n",
    "        cv2.imwrite(w_path, canvas)\n",
    "    \n",
    "def printMeshes(projectbase, weightedFolder,figureFolder):\n",
    "    for curDir, dirs, files in os.walk(projectbase+weightedFolder):\n",
    "        for filename in files:\n",
    "            if '.mesh' in filename:   \n",
    "                r_path = curDir+'\\\\'+filename\n",
    "                w_path = r_path.replace(weightedFolder,figureFolder)\n",
    "                w_path = w_path.replace(\".mesh\",\".png\")\n",
    "                printMesh(r_path,w_path)"
   ]
  },
  {
   "cell_type": "code",
   "execution_count": 86,
   "metadata": {},
   "outputs": [
    {
     "name": "stdout",
     "output_type": "stream",
     "text": [
      "F:\\ANU\\Research\\Polyanya\\anyangle\\polyanya\\weightedMeshes\\\\arena-merged.mesh\n",
      "F:\\ANU\\Research\\Polyanya\\anyangle\\polyanya\\weightedMeshes\\\\arena.mesh\n",
      "F:\\ANU\\Research\\Polyanya\\anyangle\\polyanya\\weightedMeshes\\\\aurora-merged.mesh\n",
      "F:\\ANU\\Research\\Polyanya\\anyangle\\polyanya\\weightedMeshes\\\\aurora.mesh\n"
     ]
    }
   ],
   "source": [
    "figureFolder = \"mapFigure\\\\\"\n",
    "printMeshes(projectbase, weightedFolder,figureFolder)"
   ]
  }
 ],
 "metadata": {
  "kernelspec": {
   "display_name": "Python 3",
   "language": "python",
   "name": "python3"
  },
  "language_info": {
   "codemirror_mode": {
    "name": "ipython",
    "version": 3
   },
   "file_extension": ".py",
   "mimetype": "text/x-python",
   "name": "python",
   "nbconvert_exporter": "python",
   "pygments_lexer": "ipython3",
   "version": "3.7.6"
  },
  "varInspector": {
   "cols": {
    "lenName": 16,
    "lenType": 16,
    "lenVar": 40
   },
   "kernels_config": {
    "python": {
     "delete_cmd_postfix": "",
     "delete_cmd_prefix": "del ",
     "library": "var_list.py",
     "varRefreshCmd": "print(var_dic_list())"
    },
    "r": {
     "delete_cmd_postfix": ") ",
     "delete_cmd_prefix": "rm(",
     "library": "var_list.r",
     "varRefreshCmd": "cat(var_dic_list()) "
    }
   },
   "types_to_exclude": [
    "module",
    "function",
    "builtin_function_or_method",
    "instance",
    "_Feature"
   ],
   "window_display": false
  }
 },
 "nbformat": 4,
 "nbformat_minor": 4
}
